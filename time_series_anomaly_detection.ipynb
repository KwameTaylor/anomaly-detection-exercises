{
 "cells": [
  {
   "cell_type": "markdown",
   "metadata": {},
   "source": [
    "# Time Series Anomaly Detection Exercises\n",
    "### Kwame V. Taylor\n",
    "\n",
    "\n",
    "* Discover users who are accessing our curriculum pages way beyond the end of their codeup time. What would the dataframe look like? What are two hypotheses you can test? Use time series method for detecting anomalies, like exponential moving average with %b.\n",
    "\n",
    "**Bonus:**\n",
    " * Can you label students who are viewing both the web dev and data science curriculum?\n",
    " * Can you label students by the program they are in?\n",
    " * Can you label users by student vs. staff?\n",
    " * What are Zach, Maggie, Faith, and Ryan's ids?"
   ]
  },
  {
   "cell_type": "markdown",
   "metadata": {},
   "source": [
    "### Imports"
   ]
  },
  {
   "cell_type": "code",
   "execution_count": 1,
   "metadata": {},
   "outputs": [],
   "source": [
    "import numpy as np\n",
    "import pandas as pd\n",
    "import math\n",
    "from sklearn import metrics\n",
    "\n",
    "from scipy.stats import entropy\n",
    "\n",
    "import warnings\n",
    "warnings.filterwarnings(\"ignore\")\n",
    "import matplotlib.pyplot as plt\n",
    "import matplotlib.dates as mdates #to format dates on our plots\n",
    "%matplotlib inline\n",
    "import seaborn as sns\n",
    "\n",
    "# This is to make sure matplotlib doesn't throw the following error:\n",
    "# The next line fixes \"TypeError: float() argument must be a string or a number, not 'Timestamp' matplotlib\"\n",
    "pd.plotting.register_matplotlib_converters()\n",
    "\n",
    "# importing GeoIP database for IP geolocation\n",
    "import geoip2.database\n",
    "reader = geoip2.database.Reader('GeoLite2City/GeoLite2-City.mmdb')\n",
    "\n",
    "# import system to check errors\n",
    "import sys"
   ]
  },
  {
   "cell_type": "markdown",
   "metadata": {},
   "source": [
    "### Acquire"
   ]
  },
  {
   "cell_type": "code",
   "execution_count": 2,
   "metadata": {},
   "outputs": [
    {
     "data": {
      "text/html": [
       "<div>\n",
       "<style scoped>\n",
       "    .dataframe tbody tr th:only-of-type {\n",
       "        vertical-align: middle;\n",
       "    }\n",
       "\n",
       "    .dataframe tbody tr th {\n",
       "        vertical-align: top;\n",
       "    }\n",
       "\n",
       "    .dataframe thead th {\n",
       "        text-align: right;\n",
       "    }\n",
       "</style>\n",
       "<table border=\"1\" class=\"dataframe\">\n",
       "  <thead>\n",
       "    <tr style=\"text-align: right;\">\n",
       "      <th></th>\n",
       "      <th>date</th>\n",
       "      <th>timestamp</th>\n",
       "      <th>request_method</th>\n",
       "      <th>user_id</th>\n",
       "      <th>cohort_id</th>\n",
       "      <th>ip</th>\n",
       "    </tr>\n",
       "  </thead>\n",
       "  <tbody>\n",
       "    <tr>\n",
       "      <th>0</th>\n",
       "      <td>2018-01-26</td>\n",
       "      <td>09:55:03</td>\n",
       "      <td>/</td>\n",
       "      <td>1</td>\n",
       "      <td>8</td>\n",
       "      <td>97.105.19.61</td>\n",
       "    </tr>\n",
       "    <tr>\n",
       "      <th>1</th>\n",
       "      <td>2018-01-26</td>\n",
       "      <td>09:56:02</td>\n",
       "      <td>java-ii</td>\n",
       "      <td>1</td>\n",
       "      <td>8</td>\n",
       "      <td>97.105.19.61</td>\n",
       "    </tr>\n",
       "    <tr>\n",
       "      <th>2</th>\n",
       "      <td>2018-01-26</td>\n",
       "      <td>09:56:05</td>\n",
       "      <td>java-ii/object-oriented-programming</td>\n",
       "      <td>1</td>\n",
       "      <td>8</td>\n",
       "      <td>97.105.19.61</td>\n",
       "    </tr>\n",
       "    <tr>\n",
       "      <th>3</th>\n",
       "      <td>2018-01-26</td>\n",
       "      <td>09:56:06</td>\n",
       "      <td>slides/object_oriented_programming</td>\n",
       "      <td>1</td>\n",
       "      <td>8</td>\n",
       "      <td>97.105.19.61</td>\n",
       "    </tr>\n",
       "    <tr>\n",
       "      <th>4</th>\n",
       "      <td>2018-01-26</td>\n",
       "      <td>09:56:24</td>\n",
       "      <td>javascript-i/conditionals</td>\n",
       "      <td>2</td>\n",
       "      <td>22</td>\n",
       "      <td>97.105.19.61</td>\n",
       "    </tr>\n",
       "  </tbody>\n",
       "</table>\n",
       "</div>"
      ],
      "text/plain": [
       "         date timestamp                       request_method  user_id  \\\n",
       "0  2018-01-26  09:55:03                                    /        1   \n",
       "1  2018-01-26  09:56:02                              java-ii        1   \n",
       "2  2018-01-26  09:56:05  java-ii/object-oriented-programming        1   \n",
       "3  2018-01-26  09:56:06   slides/object_oriented_programming        1   \n",
       "4  2018-01-26  09:56:24            javascript-i/conditionals        2   \n",
       "\n",
       "  cohort_id            ip  \n",
       "0         8  97.105.19.61  \n",
       "1         8  97.105.19.61  \n",
       "2         8  97.105.19.61  \n",
       "3         8  97.105.19.61  \n",
       "4        22  97.105.19.61  "
      ]
     },
     "execution_count": 2,
     "metadata": {},
     "output_type": "execute_result"
    }
   ],
   "source": [
    "colnames = ['date', 'timestamp', 'request_method', 'user_id', 'cohort_id', 'ip']\n",
    "\n",
    "df = pd.read_csv('anonymized-curriculum-access.txt', header=None, index_col=False,\n",
    "                 names=colnames, delim_whitespace=True, na_values='\"-\"')\n",
    "#                 usecols=[0, 1, 2, 5])\n",
    "df.head()"
   ]
  },
  {
   "cell_type": "markdown",
   "metadata": {},
   "source": [
    "### Prepare"
   ]
  },
  {
   "cell_type": "code",
   "execution_count": 3,
   "metadata": {},
   "outputs": [
    {
     "data": {
      "text/html": [
       "<div>\n",
       "<style scoped>\n",
       "    .dataframe tbody tr th:only-of-type {\n",
       "        vertical-align: middle;\n",
       "    }\n",
       "\n",
       "    .dataframe tbody tr th {\n",
       "        vertical-align: top;\n",
       "    }\n",
       "\n",
       "    .dataframe thead th {\n",
       "        text-align: right;\n",
       "    }\n",
       "</style>\n",
       "<table border=\"1\" class=\"dataframe\">\n",
       "  <thead>\n",
       "    <tr style=\"text-align: right;\">\n",
       "      <th></th>\n",
       "      <th>date</th>\n",
       "      <th>timestamp</th>\n",
       "      <th>request_method</th>\n",
       "      <th>user_id</th>\n",
       "      <th>cohort_id</th>\n",
       "      <th>ip</th>\n",
       "      <th>ds</th>\n",
       "    </tr>\n",
       "  </thead>\n",
       "  <tbody>\n",
       "    <tr>\n",
       "      <th>0</th>\n",
       "      <td>2018-01-26</td>\n",
       "      <td>09:55:03</td>\n",
       "      <td>/</td>\n",
       "      <td>1</td>\n",
       "      <td>8</td>\n",
       "      <td>97.105.19.61</td>\n",
       "      <td>2018-01-26 09:55:03</td>\n",
       "    </tr>\n",
       "    <tr>\n",
       "      <th>1</th>\n",
       "      <td>2018-01-26</td>\n",
       "      <td>09:56:02</td>\n",
       "      <td>java-ii</td>\n",
       "      <td>1</td>\n",
       "      <td>8</td>\n",
       "      <td>97.105.19.61</td>\n",
       "      <td>2018-01-26 09:56:02</td>\n",
       "    </tr>\n",
       "    <tr>\n",
       "      <th>2</th>\n",
       "      <td>2018-01-26</td>\n",
       "      <td>09:56:05</td>\n",
       "      <td>java-ii/object-oriented-programming</td>\n",
       "      <td>1</td>\n",
       "      <td>8</td>\n",
       "      <td>97.105.19.61</td>\n",
       "      <td>2018-01-26 09:56:05</td>\n",
       "    </tr>\n",
       "    <tr>\n",
       "      <th>3</th>\n",
       "      <td>2018-01-26</td>\n",
       "      <td>09:56:06</td>\n",
       "      <td>slides/object_oriented_programming</td>\n",
       "      <td>1</td>\n",
       "      <td>8</td>\n",
       "      <td>97.105.19.61</td>\n",
       "      <td>2018-01-26 09:56:06</td>\n",
       "    </tr>\n",
       "    <tr>\n",
       "      <th>4</th>\n",
       "      <td>2018-01-26</td>\n",
       "      <td>09:56:24</td>\n",
       "      <td>javascript-i/conditionals</td>\n",
       "      <td>2</td>\n",
       "      <td>22</td>\n",
       "      <td>97.105.19.61</td>\n",
       "      <td>2018-01-26 09:56:24</td>\n",
       "    </tr>\n",
       "  </tbody>\n",
       "</table>\n",
       "</div>"
      ],
      "text/plain": [
       "         date timestamp                       request_method  user_id  \\\n",
       "0  2018-01-26  09:55:03                                    /        1   \n",
       "1  2018-01-26  09:56:02                              java-ii        1   \n",
       "2  2018-01-26  09:56:05  java-ii/object-oriented-programming        1   \n",
       "3  2018-01-26  09:56:06   slides/object_oriented_programming        1   \n",
       "4  2018-01-26  09:56:24            javascript-i/conditionals        2   \n",
       "\n",
       "  cohort_id            ip                   ds  \n",
       "0         8  97.105.19.61  2018-01-26 09:55:03  \n",
       "1         8  97.105.19.61  2018-01-26 09:56:02  \n",
       "2         8  97.105.19.61  2018-01-26 09:56:05  \n",
       "3         8  97.105.19.61  2018-01-26 09:56:06  \n",
       "4        22  97.105.19.61  2018-01-26 09:56:24  "
      ]
     },
     "execution_count": 3,
     "metadata": {},
     "output_type": "execute_result"
    }
   ],
   "source": [
    "# merge date and timestamp\n",
    "df[\"ds\"] = df[\"date\"] +\" \"+ df[\"timestamp\"]\n",
    "df.head()"
   ]
  },
  {
   "cell_type": "code",
   "execution_count": 4,
   "metadata": {},
   "outputs": [
    {
     "data": {
      "text/html": [
       "<div>\n",
       "<style scoped>\n",
       "    .dataframe tbody tr th:only-of-type {\n",
       "        vertical-align: middle;\n",
       "    }\n",
       "\n",
       "    .dataframe tbody tr th {\n",
       "        vertical-align: top;\n",
       "    }\n",
       "\n",
       "    .dataframe thead th {\n",
       "        text-align: right;\n",
       "    }\n",
       "</style>\n",
       "<table border=\"1\" class=\"dataframe\">\n",
       "  <thead>\n",
       "    <tr style=\"text-align: right;\">\n",
       "      <th></th>\n",
       "      <th>request_method</th>\n",
       "      <th>user_id</th>\n",
       "      <th>cohort_id</th>\n",
       "      <th>ip</th>\n",
       "      <th>ds</th>\n",
       "    </tr>\n",
       "  </thead>\n",
       "  <tbody>\n",
       "    <tr>\n",
       "      <th>0</th>\n",
       "      <td>/</td>\n",
       "      <td>1</td>\n",
       "      <td>8</td>\n",
       "      <td>97.105.19.61</td>\n",
       "      <td>2018-01-26 09:55:03</td>\n",
       "    </tr>\n",
       "    <tr>\n",
       "      <th>1</th>\n",
       "      <td>java-ii</td>\n",
       "      <td>1</td>\n",
       "      <td>8</td>\n",
       "      <td>97.105.19.61</td>\n",
       "      <td>2018-01-26 09:56:02</td>\n",
       "    </tr>\n",
       "    <tr>\n",
       "      <th>2</th>\n",
       "      <td>java-ii/object-oriented-programming</td>\n",
       "      <td>1</td>\n",
       "      <td>8</td>\n",
       "      <td>97.105.19.61</td>\n",
       "      <td>2018-01-26 09:56:05</td>\n",
       "    </tr>\n",
       "    <tr>\n",
       "      <th>3</th>\n",
       "      <td>slides/object_oriented_programming</td>\n",
       "      <td>1</td>\n",
       "      <td>8</td>\n",
       "      <td>97.105.19.61</td>\n",
       "      <td>2018-01-26 09:56:06</td>\n",
       "    </tr>\n",
       "    <tr>\n",
       "      <th>4</th>\n",
       "      <td>javascript-i/conditionals</td>\n",
       "      <td>2</td>\n",
       "      <td>22</td>\n",
       "      <td>97.105.19.61</td>\n",
       "      <td>2018-01-26 09:56:24</td>\n",
       "    </tr>\n",
       "  </tbody>\n",
       "</table>\n",
       "</div>"
      ],
      "text/plain": [
       "                        request_method  user_id cohort_id            ip  \\\n",
       "0                                    /        1         8  97.105.19.61   \n",
       "1                              java-ii        1         8  97.105.19.61   \n",
       "2  java-ii/object-oriented-programming        1         8  97.105.19.61   \n",
       "3   slides/object_oriented_programming        1         8  97.105.19.61   \n",
       "4            javascript-i/conditionals        2        22  97.105.19.61   \n",
       "\n",
       "                    ds  \n",
       "0  2018-01-26 09:55:03  \n",
       "1  2018-01-26 09:56:02  \n",
       "2  2018-01-26 09:56:05  \n",
       "3  2018-01-26 09:56:06  \n",
       "4  2018-01-26 09:56:24  "
      ]
     },
     "execution_count": 4,
     "metadata": {},
     "output_type": "execute_result"
    }
   ],
   "source": [
    "# drop date and timestamp\n",
    "df = df.drop(columns=['date', 'timestamp'])\n",
    "df.head()"
   ]
  },
  {
   "cell_type": "code",
   "execution_count": 5,
   "metadata": {},
   "outputs": [
    {
     "data": {
      "text/plain": [
       "request_method            object\n",
       "user_id                    int64\n",
       "cohort_id                 object\n",
       "ip                        object\n",
       "ds                datetime64[ns]\n",
       "dtype: object"
      ]
     },
     "execution_count": 5,
     "metadata": {},
     "output_type": "execute_result"
    }
   ],
   "source": [
    "# convert date column to datetime type\n",
    "df.ds = pd.to_datetime(df.ds)\n",
    "df.dtypes"
   ]
  },
  {
   "cell_type": "code",
   "execution_count": 6,
   "metadata": {},
   "outputs": [
    {
     "data": {
      "text/html": [
       "<div>\n",
       "<style scoped>\n",
       "    .dataframe tbody tr th:only-of-type {\n",
       "        vertical-align: middle;\n",
       "    }\n",
       "\n",
       "    .dataframe tbody tr th {\n",
       "        vertical-align: top;\n",
       "    }\n",
       "\n",
       "    .dataframe thead th {\n",
       "        text-align: right;\n",
       "    }\n",
       "</style>\n",
       "<table border=\"1\" class=\"dataframe\">\n",
       "  <thead>\n",
       "    <tr style=\"text-align: right;\">\n",
       "      <th></th>\n",
       "      <th>request_method</th>\n",
       "      <th>user_id</th>\n",
       "      <th>cohort_id</th>\n",
       "      <th>ip</th>\n",
       "    </tr>\n",
       "    <tr>\n",
       "      <th>ds</th>\n",
       "      <th></th>\n",
       "      <th></th>\n",
       "      <th></th>\n",
       "      <th></th>\n",
       "    </tr>\n",
       "  </thead>\n",
       "  <tbody>\n",
       "    <tr>\n",
       "      <th>2018-01-26 09:55:03</th>\n",
       "      <td>/</td>\n",
       "      <td>1</td>\n",
       "      <td>8</td>\n",
       "      <td>97.105.19.61</td>\n",
       "    </tr>\n",
       "    <tr>\n",
       "      <th>2018-01-26 09:56:02</th>\n",
       "      <td>java-ii</td>\n",
       "      <td>1</td>\n",
       "      <td>8</td>\n",
       "      <td>97.105.19.61</td>\n",
       "    </tr>\n",
       "    <tr>\n",
       "      <th>2018-01-26 09:56:05</th>\n",
       "      <td>java-ii/object-oriented-programming</td>\n",
       "      <td>1</td>\n",
       "      <td>8</td>\n",
       "      <td>97.105.19.61</td>\n",
       "    </tr>\n",
       "    <tr>\n",
       "      <th>2018-01-26 09:56:06</th>\n",
       "      <td>slides/object_oriented_programming</td>\n",
       "      <td>1</td>\n",
       "      <td>8</td>\n",
       "      <td>97.105.19.61</td>\n",
       "    </tr>\n",
       "    <tr>\n",
       "      <th>2018-01-26 09:56:24</th>\n",
       "      <td>javascript-i/conditionals</td>\n",
       "      <td>2</td>\n",
       "      <td>22</td>\n",
       "      <td>97.105.19.61</td>\n",
       "    </tr>\n",
       "  </tbody>\n",
       "</table>\n",
       "</div>"
      ],
      "text/plain": [
       "                                          request_method  user_id cohort_id  \\\n",
       "ds                                                                            \n",
       "2018-01-26 09:55:03                                    /        1         8   \n",
       "2018-01-26 09:56:02                              java-ii        1         8   \n",
       "2018-01-26 09:56:05  java-ii/object-oriented-programming        1         8   \n",
       "2018-01-26 09:56:06   slides/object_oriented_programming        1         8   \n",
       "2018-01-26 09:56:24            javascript-i/conditionals        2        22   \n",
       "\n",
       "                               ip  \n",
       "ds                                 \n",
       "2018-01-26 09:55:03  97.105.19.61  \n",
       "2018-01-26 09:56:02  97.105.19.61  \n",
       "2018-01-26 09:56:05  97.105.19.61  \n",
       "2018-01-26 09:56:06  97.105.19.61  \n",
       "2018-01-26 09:56:24  97.105.19.61  "
      ]
     },
     "execution_count": 6,
     "metadata": {},
     "output_type": "execute_result"
    }
   ],
   "source": [
    "# set ds as index and sort\n",
    "# this is a very important step!\n",
    "df = df.set_index('ds').sort_index()\n",
    "df.head()"
   ]
  },
  {
   "cell_type": "code",
   "execution_count": 7,
   "metadata": {},
   "outputs": [
    {
     "data": {
      "text/plain": [
       "(719459, 4)"
      ]
     },
     "execution_count": 7,
     "metadata": {},
     "output_type": "execute_result"
    }
   ],
   "source": [
    "df.shape"
   ]
  },
  {
   "cell_type": "code",
   "execution_count": 8,
   "metadata": {},
   "outputs": [
    {
     "data": {
      "text/plain": [
       "/                                    40122\n",
       "search/search_index.json             15393\n",
       "javascript-i                         14551\n",
       "toc                                  14018\n",
       "java-iii                             10835\n",
       "                                     ...  \n",
       "asset-manifest.json                      1\n",
       "examples/css/..%5c                       1\n",
       "cli/4-navigating-the-filesystem          1\n",
       "regression/least-angle-regression        1\n",
       "tc-ml                                    1\n",
       "Name: request_method, Length: 2154, dtype: int64"
      ]
     },
     "execution_count": 8,
     "metadata": {},
     "output_type": "execute_result"
    }
   ],
   "source": [
    "df.request_method.value_counts()"
   ]
  },
  {
   "cell_type": "code",
   "execution_count": 9,
   "metadata": {},
   "outputs": [
    {
     "data": {
      "text/plain": [
       "97.105.19.58       268648\n",
       "97.105.19.61        60530\n",
       "192.171.117.210      8896\n",
       "71.150.217.33        4919\n",
       "12.106.208.194       4262\n",
       "                    ...  \n",
       "172.56.15.46            1\n",
       "172.58.107.121          1\n",
       "99.203.27.87            1\n",
       "12.184.218.52           1\n",
       "107.77.221.82           1\n",
       "Name: ip, Length: 4064, dtype: int64"
      ]
     },
     "execution_count": 9,
     "metadata": {},
     "output_type": "execute_result"
    }
   ],
   "source": [
    "df.ip.value_counts()"
   ]
  },
  {
   "cell_type": "code",
   "execution_count": 10,
   "metadata": {},
   "outputs": [
    {
     "data": {
      "text/plain": [
       "386"
      ]
     },
     "execution_count": 10,
     "metadata": {},
     "output_type": "execute_result"
    }
   ],
   "source": [
    "df.cohort_id.nunique()"
   ]
  },
  {
   "cell_type": "markdown",
   "metadata": {},
   "source": [
    "Some IP addresses accidentally got put in the ```cohort_id``` column, so I'm going to drop those rows."
   ]
  },
  {
   "cell_type": "code",
   "execution_count": 11,
   "metadata": {},
   "outputs": [
    {
     "data": {
      "text/html": [
       "<div>\n",
       "<style scoped>\n",
       "    .dataframe tbody tr th:only-of-type {\n",
       "        vertical-align: middle;\n",
       "    }\n",
       "\n",
       "    .dataframe tbody tr th {\n",
       "        vertical-align: top;\n",
       "    }\n",
       "\n",
       "    .dataframe thead th {\n",
       "        text-align: right;\n",
       "    }\n",
       "</style>\n",
       "<table border=\"1\" class=\"dataframe\">\n",
       "  <thead>\n",
       "    <tr style=\"text-align: right;\">\n",
       "      <th></th>\n",
       "      <th>request_method</th>\n",
       "      <th>user_id</th>\n",
       "      <th>cohort_id</th>\n",
       "      <th>ip</th>\n",
       "    </tr>\n",
       "    <tr>\n",
       "      <th>ds</th>\n",
       "      <th></th>\n",
       "      <th></th>\n",
       "      <th></th>\n",
       "      <th></th>\n",
       "    </tr>\n",
       "  </thead>\n",
       "  <tbody>\n",
       "    <tr>\n",
       "      <th>2018-01-26 09:55:03</th>\n",
       "      <td>/</td>\n",
       "      <td>1</td>\n",
       "      <td>8</td>\n",
       "      <td>97.105.19.61</td>\n",
       "    </tr>\n",
       "    <tr>\n",
       "      <th>2018-01-26 09:56:02</th>\n",
       "      <td>java-ii</td>\n",
       "      <td>1</td>\n",
       "      <td>8</td>\n",
       "      <td>97.105.19.61</td>\n",
       "    </tr>\n",
       "    <tr>\n",
       "      <th>2018-01-26 09:56:05</th>\n",
       "      <td>java-ii/object-oriented-programming</td>\n",
       "      <td>1</td>\n",
       "      <td>8</td>\n",
       "      <td>97.105.19.61</td>\n",
       "    </tr>\n",
       "    <tr>\n",
       "      <th>2018-01-26 09:56:06</th>\n",
       "      <td>slides/object_oriented_programming</td>\n",
       "      <td>1</td>\n",
       "      <td>8</td>\n",
       "      <td>97.105.19.61</td>\n",
       "    </tr>\n",
       "    <tr>\n",
       "      <th>2018-01-26 09:56:24</th>\n",
       "      <td>javascript-i/conditionals</td>\n",
       "      <td>2</td>\n",
       "      <td>22</td>\n",
       "      <td>97.105.19.61</td>\n",
       "    </tr>\n",
       "    <tr>\n",
       "      <th>...</th>\n",
       "      <td>...</td>\n",
       "      <td>...</td>\n",
       "      <td>...</td>\n",
       "      <td>...</td>\n",
       "    </tr>\n",
       "    <tr>\n",
       "      <th>2020-11-02 16:48:13</th>\n",
       "      <td>javascript-i/coffee-project</td>\n",
       "      <td>763</td>\n",
       "      <td>62</td>\n",
       "      <td>107.192.148.199</td>\n",
       "    </tr>\n",
       "    <tr>\n",
       "      <th>2020-11-02 16:48:17</th>\n",
       "      <td>javascript-i/mapbox-api</td>\n",
       "      <td>771</td>\n",
       "      <td>62</td>\n",
       "      <td>172.125.226.175</td>\n",
       "    </tr>\n",
       "    <tr>\n",
       "      <th>2020-11-02 16:48:18</th>\n",
       "      <td>javascript-i/coffee-project</td>\n",
       "      <td>771</td>\n",
       "      <td>62</td>\n",
       "      <td>172.125.226.175</td>\n",
       "    </tr>\n",
       "    <tr>\n",
       "      <th>2020-11-02 16:48:28</th>\n",
       "      <td>javascript-i/bom-and-dom/bom</td>\n",
       "      <td>771</td>\n",
       "      <td>62</td>\n",
       "      <td>172.125.226.175</td>\n",
       "    </tr>\n",
       "    <tr>\n",
       "      <th>2020-11-02 16:48:47</th>\n",
       "      <td>javascript-i/bom-and-dom/bom</td>\n",
       "      <td>763</td>\n",
       "      <td>62</td>\n",
       "      <td>107.192.148.199</td>\n",
       "    </tr>\n",
       "  </tbody>\n",
       "</table>\n",
       "<p>673973 rows × 4 columns</p>\n",
       "</div>"
      ],
      "text/plain": [
       "                                          request_method  user_id cohort_id  \\\n",
       "ds                                                                            \n",
       "2018-01-26 09:55:03                                    /        1         8   \n",
       "2018-01-26 09:56:02                              java-ii        1         8   \n",
       "2018-01-26 09:56:05  java-ii/object-oriented-programming        1         8   \n",
       "2018-01-26 09:56:06   slides/object_oriented_programming        1         8   \n",
       "2018-01-26 09:56:24            javascript-i/conditionals        2        22   \n",
       "...                                                  ...      ...       ...   \n",
       "2020-11-02 16:48:13          javascript-i/coffee-project      763        62   \n",
       "2020-11-02 16:48:17              javascript-i/mapbox-api      771        62   \n",
       "2020-11-02 16:48:18          javascript-i/coffee-project      771        62   \n",
       "2020-11-02 16:48:28         javascript-i/bom-and-dom/bom      771        62   \n",
       "2020-11-02 16:48:47         javascript-i/bom-and-dom/bom      763        62   \n",
       "\n",
       "                                  ip  \n",
       "ds                                    \n",
       "2018-01-26 09:55:03     97.105.19.61  \n",
       "2018-01-26 09:56:02     97.105.19.61  \n",
       "2018-01-26 09:56:05     97.105.19.61  \n",
       "2018-01-26 09:56:06     97.105.19.61  \n",
       "2018-01-26 09:56:24     97.105.19.61  \n",
       "...                              ...  \n",
       "2020-11-02 16:48:13  107.192.148.199  \n",
       "2020-11-02 16:48:17  172.125.226.175  \n",
       "2020-11-02 16:48:18  172.125.226.175  \n",
       "2020-11-02 16:48:28  172.125.226.175  \n",
       "2020-11-02 16:48:47  107.192.148.199  \n",
       "\n",
       "[673973 rows x 4 columns]"
      ]
     },
     "execution_count": 11,
     "metadata": {},
     "output_type": "execute_result"
    }
   ],
   "source": [
    "df = df.drop(df[df.cohort_id.str.len() > 4].index)\n",
    "df"
   ]
  },
  {
   "cell_type": "code",
   "execution_count": 12,
   "metadata": {},
   "outputs": [],
   "source": [
    "#from ryan\n",
    "#mask = (df.column.str.contains(“A”) | df.column.str.contains(“B”))\n",
    "#df[mask]"
   ]
  },
  {
   "cell_type": "code",
   "execution_count": 13,
   "metadata": {},
   "outputs": [
    {
     "data": {
      "text/plain": [
       "request_method      0\n",
       "user_id             0\n",
       "cohort_id         420\n",
       "ip                  0\n",
       "dtype: int64"
      ]
     },
     "execution_count": 13,
     "metadata": {},
     "output_type": "execute_result"
    }
   ],
   "source": [
    "df.isna().sum()"
   ]
  },
  {
   "cell_type": "code",
   "execution_count": 14,
   "metadata": {},
   "outputs": [],
   "source": [
    "df = df.dropna()"
   ]
  },
  {
   "cell_type": "markdown",
   "metadata": {},
   "source": [
    "**Split IP address into network and host**\n",
    " * **Reference**: https://docs.oracle.com/cd/E19504-01/802-5753/planning3-18471/index.html"
   ]
  },
  {
   "cell_type": "code",
   "execution_count": 15,
   "metadata": {},
   "outputs": [
    {
     "data": {
      "text/html": [
       "<div>\n",
       "<style scoped>\n",
       "    .dataframe tbody tr th:only-of-type {\n",
       "        vertical-align: middle;\n",
       "    }\n",
       "\n",
       "    .dataframe tbody tr th {\n",
       "        vertical-align: top;\n",
       "    }\n",
       "\n",
       "    .dataframe thead th {\n",
       "        text-align: right;\n",
       "    }\n",
       "</style>\n",
       "<table border=\"1\" class=\"dataframe\">\n",
       "  <thead>\n",
       "    <tr style=\"text-align: right;\">\n",
       "      <th></th>\n",
       "      <th>request_method</th>\n",
       "      <th>user_id</th>\n",
       "      <th>cohort_id</th>\n",
       "      <th>ip</th>\n",
       "      <th>network1</th>\n",
       "      <th>network2</th>\n",
       "      <th>host1</th>\n",
       "      <th>host2</th>\n",
       "    </tr>\n",
       "    <tr>\n",
       "      <th>ds</th>\n",
       "      <th></th>\n",
       "      <th></th>\n",
       "      <th></th>\n",
       "      <th></th>\n",
       "      <th></th>\n",
       "      <th></th>\n",
       "      <th></th>\n",
       "      <th></th>\n",
       "    </tr>\n",
       "  </thead>\n",
       "  <tbody>\n",
       "    <tr>\n",
       "      <th>2018-01-26 09:55:03</th>\n",
       "      <td>/</td>\n",
       "      <td>1</td>\n",
       "      <td>8</td>\n",
       "      <td>97.105.19.61</td>\n",
       "      <td>97</td>\n",
       "      <td>105</td>\n",
       "      <td>19</td>\n",
       "      <td>61</td>\n",
       "    </tr>\n",
       "    <tr>\n",
       "      <th>2018-01-26 09:56:02</th>\n",
       "      <td>java-ii</td>\n",
       "      <td>1</td>\n",
       "      <td>8</td>\n",
       "      <td>97.105.19.61</td>\n",
       "      <td>97</td>\n",
       "      <td>105</td>\n",
       "      <td>19</td>\n",
       "      <td>61</td>\n",
       "    </tr>\n",
       "    <tr>\n",
       "      <th>2018-01-26 09:56:05</th>\n",
       "      <td>java-ii/object-oriented-programming</td>\n",
       "      <td>1</td>\n",
       "      <td>8</td>\n",
       "      <td>97.105.19.61</td>\n",
       "      <td>97</td>\n",
       "      <td>105</td>\n",
       "      <td>19</td>\n",
       "      <td>61</td>\n",
       "    </tr>\n",
       "    <tr>\n",
       "      <th>2018-01-26 09:56:06</th>\n",
       "      <td>slides/object_oriented_programming</td>\n",
       "      <td>1</td>\n",
       "      <td>8</td>\n",
       "      <td>97.105.19.61</td>\n",
       "      <td>97</td>\n",
       "      <td>105</td>\n",
       "      <td>19</td>\n",
       "      <td>61</td>\n",
       "    </tr>\n",
       "    <tr>\n",
       "      <th>2018-01-26 09:56:24</th>\n",
       "      <td>javascript-i/conditionals</td>\n",
       "      <td>2</td>\n",
       "      <td>22</td>\n",
       "      <td>97.105.19.61</td>\n",
       "      <td>97</td>\n",
       "      <td>105</td>\n",
       "      <td>19</td>\n",
       "      <td>61</td>\n",
       "    </tr>\n",
       "  </tbody>\n",
       "</table>\n",
       "</div>"
      ],
      "text/plain": [
       "                                          request_method  user_id cohort_id  \\\n",
       "ds                                                                            \n",
       "2018-01-26 09:55:03                                    /        1         8   \n",
       "2018-01-26 09:56:02                              java-ii        1         8   \n",
       "2018-01-26 09:56:05  java-ii/object-oriented-programming        1         8   \n",
       "2018-01-26 09:56:06   slides/object_oriented_programming        1         8   \n",
       "2018-01-26 09:56:24            javascript-i/conditionals        2        22   \n",
       "\n",
       "                               ip network1 network2 host1 host2  \n",
       "ds                                                               \n",
       "2018-01-26 09:55:03  97.105.19.61       97      105    19    61  \n",
       "2018-01-26 09:56:02  97.105.19.61       97      105    19    61  \n",
       "2018-01-26 09:56:05  97.105.19.61       97      105    19    61  \n",
       "2018-01-26 09:56:06  97.105.19.61       97      105    19    61  \n",
       "2018-01-26 09:56:24  97.105.19.61       97      105    19    61  "
      ]
     },
     "execution_count": 15,
     "metadata": {},
     "output_type": "execute_result"
    }
   ],
   "source": [
    "df[['network1','network2', 'host1', 'host2']] = df.ip.str.split(\".\",expand=True)\n",
    "df.head()"
   ]
  },
  {
   "cell_type": "code",
   "execution_count": 16,
   "metadata": {},
   "outputs": [
    {
     "data": {
      "text/html": [
       "<div>\n",
       "<style scoped>\n",
       "    .dataframe tbody tr th:only-of-type {\n",
       "        vertical-align: middle;\n",
       "    }\n",
       "\n",
       "    .dataframe tbody tr th {\n",
       "        vertical-align: top;\n",
       "    }\n",
       "\n",
       "    .dataframe thead th {\n",
       "        text-align: right;\n",
       "    }\n",
       "</style>\n",
       "<table border=\"1\" class=\"dataframe\">\n",
       "  <thead>\n",
       "    <tr style=\"text-align: right;\">\n",
       "      <th></th>\n",
       "      <th>request_method</th>\n",
       "      <th>user_id</th>\n",
       "      <th>cohort_id</th>\n",
       "      <th>ip</th>\n",
       "      <th>network1</th>\n",
       "      <th>network2</th>\n",
       "      <th>host1</th>\n",
       "      <th>host2</th>\n",
       "      <th>network</th>\n",
       "      <th>host</th>\n",
       "    </tr>\n",
       "    <tr>\n",
       "      <th>ds</th>\n",
       "      <th></th>\n",
       "      <th></th>\n",
       "      <th></th>\n",
       "      <th></th>\n",
       "      <th></th>\n",
       "      <th></th>\n",
       "      <th></th>\n",
       "      <th></th>\n",
       "      <th></th>\n",
       "      <th></th>\n",
       "    </tr>\n",
       "  </thead>\n",
       "  <tbody>\n",
       "    <tr>\n",
       "      <th>2018-01-26 09:55:03</th>\n",
       "      <td>/</td>\n",
       "      <td>1</td>\n",
       "      <td>8</td>\n",
       "      <td>97.105.19.61</td>\n",
       "      <td>97</td>\n",
       "      <td>105</td>\n",
       "      <td>19</td>\n",
       "      <td>61</td>\n",
       "      <td>97105</td>\n",
       "      <td>1961</td>\n",
       "    </tr>\n",
       "    <tr>\n",
       "      <th>2018-01-26 09:56:02</th>\n",
       "      <td>java-ii</td>\n",
       "      <td>1</td>\n",
       "      <td>8</td>\n",
       "      <td>97.105.19.61</td>\n",
       "      <td>97</td>\n",
       "      <td>105</td>\n",
       "      <td>19</td>\n",
       "      <td>61</td>\n",
       "      <td>97105</td>\n",
       "      <td>1961</td>\n",
       "    </tr>\n",
       "    <tr>\n",
       "      <th>2018-01-26 09:56:05</th>\n",
       "      <td>java-ii/object-oriented-programming</td>\n",
       "      <td>1</td>\n",
       "      <td>8</td>\n",
       "      <td>97.105.19.61</td>\n",
       "      <td>97</td>\n",
       "      <td>105</td>\n",
       "      <td>19</td>\n",
       "      <td>61</td>\n",
       "      <td>97105</td>\n",
       "      <td>1961</td>\n",
       "    </tr>\n",
       "    <tr>\n",
       "      <th>2018-01-26 09:56:06</th>\n",
       "      <td>slides/object_oriented_programming</td>\n",
       "      <td>1</td>\n",
       "      <td>8</td>\n",
       "      <td>97.105.19.61</td>\n",
       "      <td>97</td>\n",
       "      <td>105</td>\n",
       "      <td>19</td>\n",
       "      <td>61</td>\n",
       "      <td>97105</td>\n",
       "      <td>1961</td>\n",
       "    </tr>\n",
       "    <tr>\n",
       "      <th>2018-01-26 09:56:24</th>\n",
       "      <td>javascript-i/conditionals</td>\n",
       "      <td>2</td>\n",
       "      <td>22</td>\n",
       "      <td>97.105.19.61</td>\n",
       "      <td>97</td>\n",
       "      <td>105</td>\n",
       "      <td>19</td>\n",
       "      <td>61</td>\n",
       "      <td>97105</td>\n",
       "      <td>1961</td>\n",
       "    </tr>\n",
       "  </tbody>\n",
       "</table>\n",
       "</div>"
      ],
      "text/plain": [
       "                                          request_method  user_id cohort_id  \\\n",
       "ds                                                                            \n",
       "2018-01-26 09:55:03                                    /        1         8   \n",
       "2018-01-26 09:56:02                              java-ii        1         8   \n",
       "2018-01-26 09:56:05  java-ii/object-oriented-programming        1         8   \n",
       "2018-01-26 09:56:06   slides/object_oriented_programming        1         8   \n",
       "2018-01-26 09:56:24            javascript-i/conditionals        2        22   \n",
       "\n",
       "                               ip network1 network2 host1 host2 network  host  \n",
       "ds                                                                             \n",
       "2018-01-26 09:55:03  97.105.19.61       97      105    19    61   97105  1961  \n",
       "2018-01-26 09:56:02  97.105.19.61       97      105    19    61   97105  1961  \n",
       "2018-01-26 09:56:05  97.105.19.61       97      105    19    61   97105  1961  \n",
       "2018-01-26 09:56:06  97.105.19.61       97      105    19    61   97105  1961  \n",
       "2018-01-26 09:56:24  97.105.19.61       97      105    19    61   97105  1961  "
      ]
     },
     "execution_count": 16,
     "metadata": {},
     "output_type": "execute_result"
    }
   ],
   "source": [
    "df['network'] = df['network1'] + df['network2']\n",
    "df['host'] = df['host1'] + df['host2']\n",
    "df.head()"
   ]
  },
  {
   "cell_type": "markdown",
   "metadata": {},
   "source": [
    "**I notice that there is at least one instance of a different user_id under the same exact IP address. Might be a typo, or just something I don't understand about IP addresses.**"
   ]
  },
  {
   "cell_type": "code",
   "execution_count": 17,
   "metadata": {},
   "outputs": [
    {
     "data": {
      "text/html": [
       "<div>\n",
       "<style scoped>\n",
       "    .dataframe tbody tr th:only-of-type {\n",
       "        vertical-align: middle;\n",
       "    }\n",
       "\n",
       "    .dataframe tbody tr th {\n",
       "        vertical-align: top;\n",
       "    }\n",
       "\n",
       "    .dataframe thead th {\n",
       "        text-align: right;\n",
       "    }\n",
       "</style>\n",
       "<table border=\"1\" class=\"dataframe\">\n",
       "  <thead>\n",
       "    <tr style=\"text-align: right;\">\n",
       "      <th></th>\n",
       "      <th>request_method</th>\n",
       "      <th>user_id</th>\n",
       "      <th>cohort_id</th>\n",
       "      <th>ip</th>\n",
       "      <th>network</th>\n",
       "      <th>host</th>\n",
       "    </tr>\n",
       "    <tr>\n",
       "      <th>ds</th>\n",
       "      <th></th>\n",
       "      <th></th>\n",
       "      <th></th>\n",
       "      <th></th>\n",
       "      <th></th>\n",
       "      <th></th>\n",
       "    </tr>\n",
       "  </thead>\n",
       "  <tbody>\n",
       "    <tr>\n",
       "      <th>2018-01-26 09:55:03</th>\n",
       "      <td>/</td>\n",
       "      <td>1</td>\n",
       "      <td>8</td>\n",
       "      <td>97.105.19.61</td>\n",
       "      <td>97105</td>\n",
       "      <td>1961</td>\n",
       "    </tr>\n",
       "    <tr>\n",
       "      <th>2018-01-26 09:56:02</th>\n",
       "      <td>java-ii</td>\n",
       "      <td>1</td>\n",
       "      <td>8</td>\n",
       "      <td>97.105.19.61</td>\n",
       "      <td>97105</td>\n",
       "      <td>1961</td>\n",
       "    </tr>\n",
       "    <tr>\n",
       "      <th>2018-01-26 09:56:05</th>\n",
       "      <td>java-ii/object-oriented-programming</td>\n",
       "      <td>1</td>\n",
       "      <td>8</td>\n",
       "      <td>97.105.19.61</td>\n",
       "      <td>97105</td>\n",
       "      <td>1961</td>\n",
       "    </tr>\n",
       "    <tr>\n",
       "      <th>2018-01-26 09:56:06</th>\n",
       "      <td>slides/object_oriented_programming</td>\n",
       "      <td>1</td>\n",
       "      <td>8</td>\n",
       "      <td>97.105.19.61</td>\n",
       "      <td>97105</td>\n",
       "      <td>1961</td>\n",
       "    </tr>\n",
       "    <tr>\n",
       "      <th>2018-01-26 09:56:24</th>\n",
       "      <td>javascript-i/conditionals</td>\n",
       "      <td>2</td>\n",
       "      <td>22</td>\n",
       "      <td>97.105.19.61</td>\n",
       "      <td>97105</td>\n",
       "      <td>1961</td>\n",
       "    </tr>\n",
       "  </tbody>\n",
       "</table>\n",
       "</div>"
      ],
      "text/plain": [
       "                                          request_method  user_id cohort_id  \\\n",
       "ds                                                                            \n",
       "2018-01-26 09:55:03                                    /        1         8   \n",
       "2018-01-26 09:56:02                              java-ii        1         8   \n",
       "2018-01-26 09:56:05  java-ii/object-oriented-programming        1         8   \n",
       "2018-01-26 09:56:06   slides/object_oriented_programming        1         8   \n",
       "2018-01-26 09:56:24            javascript-i/conditionals        2        22   \n",
       "\n",
       "                               ip network  host  \n",
       "ds                                               \n",
       "2018-01-26 09:55:03  97.105.19.61   97105  1961  \n",
       "2018-01-26 09:56:02  97.105.19.61   97105  1961  \n",
       "2018-01-26 09:56:05  97.105.19.61   97105  1961  \n",
       "2018-01-26 09:56:06  97.105.19.61   97105  1961  \n",
       "2018-01-26 09:56:24  97.105.19.61   97105  1961  "
      ]
     },
     "execution_count": 17,
     "metadata": {},
     "output_type": "execute_result"
    }
   ],
   "source": [
    "df = df.drop(columns=['network1', 'network2', 'host1', 'host2'])\n",
    "df.head()"
   ]
  },
  {
   "cell_type": "code",
   "execution_count": 18,
   "metadata": {},
   "outputs": [
    {
     "data": {
      "text/plain": [
       "715"
      ]
     },
     "execution_count": 18,
     "metadata": {},
     "output_type": "execute_result"
    }
   ],
   "source": [
    "df.network.nunique()"
   ]
  },
  {
   "cell_type": "code",
   "execution_count": 19,
   "metadata": {},
   "outputs": [
    {
     "data": {
      "text/plain": [
       "3909"
      ]
     },
     "execution_count": 19,
     "metadata": {},
     "output_type": "execute_result"
    }
   ],
   "source": [
    "df.host.nunique()"
   ]
  },
  {
   "cell_type": "markdown",
   "metadata": {},
   "source": [
    "I might choose to explore hosts with only one-time access at a later point, in which case I would re-add these dropped observations."
   ]
  },
  {
   "cell_type": "markdown",
   "metadata": {},
   "source": [
    "### Explore & Feature Engineering"
   ]
  },
  {
   "cell_type": "code",
   "execution_count": 26,
   "metadata": {},
   "outputs": [
    {
     "data": {
      "text/html": [
       "<div>\n",
       "<style scoped>\n",
       "    .dataframe tbody tr th:only-of-type {\n",
       "        vertical-align: middle;\n",
       "    }\n",
       "\n",
       "    .dataframe tbody tr th {\n",
       "        vertical-align: top;\n",
       "    }\n",
       "\n",
       "    .dataframe thead th {\n",
       "        text-align: right;\n",
       "    }\n",
       "</style>\n",
       "<table border=\"1\" class=\"dataframe\">\n",
       "  <thead>\n",
       "    <tr style=\"text-align: right;\">\n",
       "      <th></th>\n",
       "      <th>ip</th>\n",
       "    </tr>\n",
       "    <tr>\n",
       "      <th>event_count</th>\n",
       "      <th></th>\n",
       "    </tr>\n",
       "  </thead>\n",
       "  <tbody>\n",
       "    <tr>\n",
       "      <th>1</th>\n",
       "      <td>34</td>\n",
       "    </tr>\n",
       "    <tr>\n",
       "      <th>2</th>\n",
       "      <td>24</td>\n",
       "    </tr>\n",
       "    <tr>\n",
       "      <th>3</th>\n",
       "      <td>339</td>\n",
       "    </tr>\n",
       "    <tr>\n",
       "      <th>4</th>\n",
       "      <td>285</td>\n",
       "    </tr>\n",
       "    <tr>\n",
       "      <th>5</th>\n",
       "      <td>198</td>\n",
       "    </tr>\n",
       "    <tr>\n",
       "      <th>...</th>\n",
       "      <td>...</td>\n",
       "    </tr>\n",
       "    <tr>\n",
       "      <th>4261</th>\n",
       "      <td>1</td>\n",
       "    </tr>\n",
       "    <tr>\n",
       "      <th>4913</th>\n",
       "      <td>1</td>\n",
       "    </tr>\n",
       "    <tr>\n",
       "      <th>8894</th>\n",
       "      <td>1</td>\n",
       "    </tr>\n",
       "    <tr>\n",
       "      <th>60492</th>\n",
       "      <td>1</td>\n",
       "    </tr>\n",
       "    <tr>\n",
       "      <th>268254</th>\n",
       "      <td>1</td>\n",
       "    </tr>\n",
       "  </tbody>\n",
       "</table>\n",
       "<p>486 rows × 1 columns</p>\n",
       "</div>"
      ],
      "text/plain": [
       "              ip\n",
       "event_count     \n",
       "1             34\n",
       "2             24\n",
       "3            339\n",
       "4            285\n",
       "5            198\n",
       "...          ...\n",
       "4261           1\n",
       "4913           1\n",
       "8894           1\n",
       "60492          1\n",
       "268254         1\n",
       "\n",
       "[486 rows x 1 columns]"
      ]
     },
     "execution_count": 26,
     "metadata": {},
     "output_type": "execute_result"
    }
   ],
   "source": [
    "# create dataframe out of value counts\n",
    "ip_counts = pd.DataFrame(df.ip.value_counts()).reset_index()\n",
    "\n",
    "# rename columns\n",
    "ip_counts.columns=['ip', 'event_count']\n",
    "\n",
    "# get the number of ip addresses seen 1, or 2, or 11,998 times. \n",
    "ip_counts.groupby(['event_count']).count()"
   ]
  },
  {
   "cell_type": "code",
   "execution_count": 27,
   "metadata": {},
   "outputs": [
    {
     "data": {
      "text/plain": [
       "4.177320753217176"
      ]
     },
     "execution_count": 27,
     "metadata": {},
     "output_type": "execute_result"
    }
   ],
   "source": [
    "# pass the entropy function an array-like object of counts. \n",
    "entropy(ip_counts.event_count)"
   ]
  },
  {
   "cell_type": "markdown",
   "metadata": {},
   "source": [
    "**Make darden_df for just dates from Darden cohort**"
   ]
  },
  {
   "cell_type": "code",
   "execution_count": 28,
   "metadata": {},
   "outputs": [
    {
     "data": {
      "text/html": [
       "<div>\n",
       "<style scoped>\n",
       "    .dataframe tbody tr th:only-of-type {\n",
       "        vertical-align: middle;\n",
       "    }\n",
       "\n",
       "    .dataframe tbody tr th {\n",
       "        vertical-align: top;\n",
       "    }\n",
       "\n",
       "    .dataframe thead th {\n",
       "        text-align: right;\n",
       "    }\n",
       "</style>\n",
       "<table border=\"1\" class=\"dataframe\">\n",
       "  <thead>\n",
       "    <tr style=\"text-align: right;\">\n",
       "      <th></th>\n",
       "      <th>request_method</th>\n",
       "      <th>user_id</th>\n",
       "      <th>cohort_id</th>\n",
       "      <th>ip</th>\n",
       "      <th>network</th>\n",
       "      <th>host</th>\n",
       "    </tr>\n",
       "    <tr>\n",
       "      <th>ds</th>\n",
       "      <th></th>\n",
       "      <th></th>\n",
       "      <th></th>\n",
       "      <th></th>\n",
       "      <th></th>\n",
       "      <th></th>\n",
       "    </tr>\n",
       "  </thead>\n",
       "  <tbody>\n",
       "    <tr>\n",
       "      <th>2020-11-02 16:48:28</th>\n",
       "      <td>javascript-i/bom-and-dom/bom</td>\n",
       "      <td>771</td>\n",
       "      <td>62</td>\n",
       "      <td>172.125.226.175</td>\n",
       "      <td>172125</td>\n",
       "      <td>226175</td>\n",
       "    </tr>\n",
       "    <tr>\n",
       "      <th>2020-11-02 16:48:47</th>\n",
       "      <td>javascript-i/bom-and-dom/bom</td>\n",
       "      <td>763</td>\n",
       "      <td>62</td>\n",
       "      <td>107.192.148.199</td>\n",
       "      <td>107192</td>\n",
       "      <td>148199</td>\n",
       "    </tr>\n",
       "  </tbody>\n",
       "</table>\n",
       "</div>"
      ],
      "text/plain": [
       "                                   request_method  user_id cohort_id  \\\n",
       "ds                                                                     \n",
       "2020-11-02 16:48:28  javascript-i/bom-and-dom/bom      771        62   \n",
       "2020-11-02 16:48:47  javascript-i/bom-and-dom/bom      763        62   \n",
       "\n",
       "                                  ip network    host  \n",
       "ds                                                    \n",
       "2020-11-02 16:48:28  172.125.226.175  172125  226175  \n",
       "2020-11-02 16:48:47  107.192.148.199  107192  148199  "
      ]
     },
     "execution_count": 28,
     "metadata": {},
     "output_type": "execute_result"
    }
   ],
   "source": [
    "df.tail(2)"
   ]
  },
  {
   "cell_type": "code",
   "execution_count": 29,
   "metadata": {},
   "outputs": [
    {
     "data": {
      "text/html": [
       "<div>\n",
       "<style scoped>\n",
       "    .dataframe tbody tr th:only-of-type {\n",
       "        vertical-align: middle;\n",
       "    }\n",
       "\n",
       "    .dataframe tbody tr th {\n",
       "        vertical-align: top;\n",
       "    }\n",
       "\n",
       "    .dataframe thead th {\n",
       "        text-align: right;\n",
       "    }\n",
       "</style>\n",
       "<table border=\"1\" class=\"dataframe\">\n",
       "  <thead>\n",
       "    <tr style=\"text-align: right;\">\n",
       "      <th></th>\n",
       "      <th>request_method</th>\n",
       "      <th>user_id</th>\n",
       "      <th>cohort_id</th>\n",
       "      <th>ip</th>\n",
       "      <th>network</th>\n",
       "      <th>host</th>\n",
       "    </tr>\n",
       "    <tr>\n",
       "      <th>ds</th>\n",
       "      <th></th>\n",
       "      <th></th>\n",
       "      <th></th>\n",
       "      <th></th>\n",
       "      <th></th>\n",
       "      <th></th>\n",
       "    </tr>\n",
       "  </thead>\n",
       "  <tbody>\n",
       "    <tr>\n",
       "      <th>2020-07-13 00:00:19</th>\n",
       "      <td>appendix</td>\n",
       "      <td>633</td>\n",
       "      <td>57</td>\n",
       "      <td>24.26.242.224</td>\n",
       "      <td>2426</td>\n",
       "      <td>242224</td>\n",
       "    </tr>\n",
       "    <tr>\n",
       "      <th>2020-07-13 00:00:23</th>\n",
       "      <td>appendix/professional-development/linkedin-tips</td>\n",
       "      <td>633</td>\n",
       "      <td>57</td>\n",
       "      <td>24.26.242.224</td>\n",
       "      <td>2426</td>\n",
       "      <td>242224</td>\n",
       "    </tr>\n",
       "  </tbody>\n",
       "</table>\n",
       "</div>"
      ],
      "text/plain": [
       "                                                      request_method  user_id  \\\n",
       "ds                                                                              \n",
       "2020-07-13 00:00:19                                         appendix      633   \n",
       "2020-07-13 00:00:23  appendix/professional-development/linkedin-tips      633   \n",
       "\n",
       "                    cohort_id             ip network    host  \n",
       "ds                                                            \n",
       "2020-07-13 00:00:19        57  24.26.242.224    2426  242224  \n",
       "2020-07-13 00:00:23        57  24.26.242.224    2426  242224  "
      ]
     },
     "execution_count": 29,
     "metadata": {},
     "output_type": "execute_result"
    }
   ],
   "source": [
    "darden_df = df.loc['2020-07-13':'2020-11-02']\n",
    "darden_df.head(2)"
   ]
  },
  {
   "cell_type": "code",
   "execution_count": 30,
   "metadata": {},
   "outputs": [
    {
     "data": {
      "text/plain": [
       "(105768, 6)"
      ]
     },
     "execution_count": 30,
     "metadata": {},
     "output_type": "execute_result"
    }
   ],
   "source": [
    "darden_df.shape"
   ]
  },
  {
   "cell_type": "markdown",
   "metadata": {},
   "source": [
    "**Geolocation**"
   ]
  },
  {
   "cell_type": "code",
   "execution_count": 31,
   "metadata": {},
   "outputs": [],
   "source": [
    "for x in darden_df.ip: \n",
    "    try:\n",
    "        response = reader.city(x)\n",
    "        darden_df['ip_city'] = response.city.name\n",
    "        break\n",
    "    except:\n",
    "        print(\"Oops!\", sys.exc_info()[0], \"occurred.\")\n",
    "        print(\"Next observation.\")\n",
    "        darden_df['ip_city'] = 'error'"
   ]
  },
  {
   "cell_type": "code",
   "execution_count": 32,
   "metadata": {},
   "outputs": [
    {
     "data": {
      "text/html": [
       "<div>\n",
       "<style scoped>\n",
       "    .dataframe tbody tr th:only-of-type {\n",
       "        vertical-align: middle;\n",
       "    }\n",
       "\n",
       "    .dataframe tbody tr th {\n",
       "        vertical-align: top;\n",
       "    }\n",
       "\n",
       "    .dataframe thead th {\n",
       "        text-align: right;\n",
       "    }\n",
       "</style>\n",
       "<table border=\"1\" class=\"dataframe\">\n",
       "  <thead>\n",
       "    <tr style=\"text-align: right;\">\n",
       "      <th></th>\n",
       "      <th>request_method</th>\n",
       "      <th>user_id</th>\n",
       "      <th>cohort_id</th>\n",
       "      <th>ip</th>\n",
       "      <th>network</th>\n",
       "      <th>host</th>\n",
       "      <th>ip_city</th>\n",
       "    </tr>\n",
       "    <tr>\n",
       "      <th>ds</th>\n",
       "      <th></th>\n",
       "      <th></th>\n",
       "      <th></th>\n",
       "      <th></th>\n",
       "      <th></th>\n",
       "      <th></th>\n",
       "      <th></th>\n",
       "    </tr>\n",
       "  </thead>\n",
       "  <tbody>\n",
       "    <tr>\n",
       "      <th>2020-07-13 00:00:19</th>\n",
       "      <td>appendix</td>\n",
       "      <td>633</td>\n",
       "      <td>57</td>\n",
       "      <td>24.26.242.224</td>\n",
       "      <td>2426</td>\n",
       "      <td>242224</td>\n",
       "      <td>San Antonio</td>\n",
       "    </tr>\n",
       "    <tr>\n",
       "      <th>2020-07-13 00:00:23</th>\n",
       "      <td>appendix/professional-development/linkedin-tips</td>\n",
       "      <td>633</td>\n",
       "      <td>57</td>\n",
       "      <td>24.26.242.224</td>\n",
       "      <td>2426</td>\n",
       "      <td>242224</td>\n",
       "      <td>San Antonio</td>\n",
       "    </tr>\n",
       "    <tr>\n",
       "      <th>2020-07-13 00:04:59</th>\n",
       "      <td>appendix/professional-development/cover-letter</td>\n",
       "      <td>614</td>\n",
       "      <td>56</td>\n",
       "      <td>174.67.1.123</td>\n",
       "      <td>17467</td>\n",
       "      <td>1123</td>\n",
       "      <td>San Antonio</td>\n",
       "    </tr>\n",
       "    <tr>\n",
       "      <th>2020-07-13 00:05:49</th>\n",
       "      <td>spring/fundamentals/security/authentication</td>\n",
       "      <td>606</td>\n",
       "      <td>56</td>\n",
       "      <td>76.187.7.114</td>\n",
       "      <td>76187</td>\n",
       "      <td>7114</td>\n",
       "      <td>San Antonio</td>\n",
       "    </tr>\n",
       "    <tr>\n",
       "      <th>2020-07-13 00:52:09</th>\n",
       "      <td>javascript-i/arrays</td>\n",
       "      <td>672</td>\n",
       "      <td>58</td>\n",
       "      <td>67.11.50.23</td>\n",
       "      <td>6711</td>\n",
       "      <td>5023</td>\n",
       "      <td>San Antonio</td>\n",
       "    </tr>\n",
       "  </tbody>\n",
       "</table>\n",
       "</div>"
      ],
      "text/plain": [
       "                                                      request_method  user_id  \\\n",
       "ds                                                                              \n",
       "2020-07-13 00:00:19                                         appendix      633   \n",
       "2020-07-13 00:00:23  appendix/professional-development/linkedin-tips      633   \n",
       "2020-07-13 00:04:59   appendix/professional-development/cover-letter      614   \n",
       "2020-07-13 00:05:49      spring/fundamentals/security/authentication      606   \n",
       "2020-07-13 00:52:09                              javascript-i/arrays      672   \n",
       "\n",
       "                    cohort_id             ip network    host      ip_city  \n",
       "ds                                                                         \n",
       "2020-07-13 00:00:19        57  24.26.242.224    2426  242224  San Antonio  \n",
       "2020-07-13 00:00:23        57  24.26.242.224    2426  242224  San Antonio  \n",
       "2020-07-13 00:04:59        56   174.67.1.123   17467    1123  San Antonio  \n",
       "2020-07-13 00:05:49        56   76.187.7.114   76187    7114  San Antonio  \n",
       "2020-07-13 00:52:09        58    67.11.50.23    6711    5023  San Antonio  "
      ]
     },
     "execution_count": 32,
     "metadata": {},
     "output_type": "execute_result"
    }
   ],
   "source": [
    "darden_df.head()"
   ]
  },
  {
   "cell_type": "code",
   "execution_count": 36,
   "metadata": {},
   "outputs": [
    {
     "data": {
      "text/plain": [
       "San Antonio    105768\n",
       "Name: ip_city, dtype: int64"
      ]
     },
     "execution_count": 36,
     "metadata": {},
     "output_type": "execute_result"
    }
   ],
   "source": [
    "darden_df.ip_city.value_counts()"
   ]
  },
  {
   "cell_type": "markdown",
   "metadata": {},
   "source": [
    "**Takeaway:** All of the IP addresses come from San Antonio in the dates that correspond to Darden."
   ]
  },
  {
   "cell_type": "markdown",
   "metadata": {},
   "source": [
    "### Hypothesis 1:\n",
    "    \n",
    "    "
   ]
  },
  {
   "cell_type": "code",
   "execution_count": null,
   "metadata": {},
   "outputs": [],
   "source": []
  }
 ],
 "metadata": {
  "kernelspec": {
   "display_name": "Python 3",
   "language": "python",
   "name": "python3"
  },
  "language_info": {
   "codemirror_mode": {
    "name": "ipython",
    "version": 3
   },
   "file_extension": ".py",
   "mimetype": "text/x-python",
   "name": "python",
   "nbconvert_exporter": "python",
   "pygments_lexer": "ipython3",
   "version": "3.8.3"
  }
 },
 "nbformat": 4,
 "nbformat_minor": 4
}
